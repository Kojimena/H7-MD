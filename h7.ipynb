{
 "cells": [
  {
   "cell_type": "markdown",
   "metadata": {},
   "source": [
    "# Hoja de Trabajo 7. TensorFlow\n",
    "- Mark Albrand - 21004\n",
    "- Jimena Hernández - 21199"
   ]
  },
  {
   "cell_type": "markdown",
   "metadata": {},
   "source": [
    "## Importar las librerías relevantes"
   ]
  },
  {
   "cell_type": "code",
   "execution_count": 633,
   "metadata": {
    "tags": []
   },
   "outputs": [],
   "source": [
    "import numpy as np\n",
    "import plotly.express as px\n",
    "import matplotlib.pyplot as plt\n",
    "import tensorflow as tf\n",
    "from tensorflow.keras import optimizers\n",
    "from tensorflow.keras.losses import Huber"
   ]
  },
  {
   "cell_type": "markdown",
   "metadata": {},
   "source": [
    "## 1. Optimización de Hiperparámetros"
   ]
  },
  {
   "cell_type": "code",
   "execution_count": 634,
   "metadata": {},
   "outputs": [],
   "source": [
    "\n",
    "observaciones = 1000\n",
    "\n",
    "x1 = np.random.uniform(low = -10, high = 10, size = (observaciones,1))\n",
    "x2 = np.random.uniform(-10, 10, (observaciones,1)) \n",
    "\n",
    "X = np.column_stack((x1,x2))\n",
    "\n"
   ]
  },
  {
   "cell_type": "code",
   "execution_count": 635,
   "metadata": {},
   "outputs": [],
   "source": [
    "ruido = np.random.uniform(-1, 1, (observaciones,1))\n",
    "\n",
    "y = 2 * x1 - 3 * x2 + 5 + ruido"
   ]
  },
  {
   "cell_type": "code",
   "execution_count": 636,
   "metadata": {},
   "outputs": [],
   "source": [
    "np.savez('Datos_TF', entradas = X, targets = y)  # nótese que se puede usar cualquier nombre"
   ]
  },
  {
   "cell_type": "code",
   "execution_count": 637,
   "metadata": {},
   "outputs": [],
   "source": [
    "# Se cargan los datos desde el archivo NPZ.  Por supuesto, esto no era necesario acá\n",
    "datos = np.load('Datos_TF.npz')"
   ]
  },
  {
   "cell_type": "code",
   "execution_count": 638,
   "metadata": {},
   "outputs": [],
   "source": [
    "tamanio_entrada = 2\n",
    "\n",
    "tamanio_salida = 1"
   ]
  },
  {
   "cell_type": "code",
   "execution_count": 639,
   "metadata": {},
   "outputs": [],
   "source": [
    "modelo = tf.keras.Sequential([\n",
    "                           \n",
    "                            tf.keras.layers.Dense(tamanio_salida,\n",
    "                                                 kernel_initializer = tf.random_uniform_initializer(minval = -0.1, maxval = 0.1),\n",
    "                                                 bias_initializer = tf.random_uniform_initializer(minval = -0.1, maxval = 0.1)\n",
    "                                                 )\n",
    "                            ])"
   ]
  },
  {
   "cell_type": "code",
   "execution_count": 640,
   "metadata": {},
   "outputs": [],
   "source": [
    "optimizador_adhoc = tf.keras.optimizers.SGD(learning_rate = 0.001)\n",
    "#optimizador_adhoc = tf.keras.optimizers.legacy.SGD(learning_rate = 0.02) # para las MAC con M1 o M2"
   ]
  },
  {
   "cell_type": "code",
   "execution_count": 641,
   "metadata": {},
   "outputs": [],
   "source": [
    "huber_loss = tf.keras.losses.Huber()"
   ]
  },
  {
   "cell_type": "markdown",
   "metadata": {},
   "source": [
    "**\"compile\"** es donde se pueden indicar los optimizadores y la pérdida."
   ]
  },
  {
   "cell_type": "code",
   "execution_count": 642,
   "metadata": {},
   "outputs": [],
   "source": [
    "modelo.compile(optimizer = optimizador_adhoc, loss='mean_squared_error', metrics = ['mae'])"
   ]
  },
  {
   "cell_type": "code",
   "execution_count": 643,
   "metadata": {},
   "outputs": [
    {
     "name": "stdout",
     "output_type": "stream",
     "text": [
      "--- 2.309711217880249 seconds ---\n"
     ]
    }
   ],
   "source": [
    "import time\n",
    "start_time = time.time()\n",
    "modelo.fit(datos['entradas'], datos['targets'], epochs = 100, verbose = 0)\n",
    "\n",
    "print(\"--- %s seconds ---\" % (time.time() - start_time))\n"
   ]
  },
  {
   "cell_type": "code",
   "execution_count": 644,
   "metadata": {},
   "outputs": [
    {
     "name": "stdout",
     "output_type": "stream",
     "text": [
      "\u001b[1m32/32\u001b[0m \u001b[32m━━━━━━━━━━━━━━━━━━━━\u001b[0m\u001b[37m\u001b[0m \u001b[1m0s\u001b[0m 419us/step - accuracy: 0.0000e+00 - loss: 0.3423\n",
      "Test Loss: 0.3434355556964874\n",
      "Test Compile_metrics: 0.0\n"
     ]
    }
   ],
   "source": [
    "resultados = modelo.evaluate(datos['entradas'], datos['targets'])\n",
    "print(f\"Test Loss: {resultados[0]}\")\n",
    "for i, metric in enumerate(modelo.metrics_names[1:]):\n",
    "    print(f\"Test {metric.capitalize()}: {resultados[i+1]}\")"
   ]
  },
  {
   "cell_type": "code",
   "execution_count": 645,
   "metadata": {},
   "outputs": [
    {
     "data": {
      "text/plain": [
       "[array([[ 2.0006518],\n",
       "        [-2.996565 ]], dtype=float32),\n",
       " array([4.972242], dtype=float32)]"
      ]
     },
     "execution_count": 645,
     "metadata": {},
     "output_type": "execute_result"
    }
   ],
   "source": [
    "modelo.layers[0].get_weights()    # el cero (0) es porque solo tenemos una capa"
   ]
  },
  {
   "cell_type": "code",
   "execution_count": 646,
   "metadata": {},
   "outputs": [
    {
     "data": {
      "text/plain": [
       "array([[ 2.0006518],\n",
       "       [-2.996565 ]], dtype=float32)"
      ]
     },
     "execution_count": 646,
     "metadata": {},
     "output_type": "execute_result"
    }
   ],
   "source": [
    "pesos = modelo.layers[0].get_weights()[0]\n",
    "pesos"
   ]
  },
  {
   "cell_type": "code",
   "execution_count": 647,
   "metadata": {},
   "outputs": [
    {
     "data": {
      "text/plain": [
       "array([4.972242], dtype=float32)"
      ]
     },
     "execution_count": 647,
     "metadata": {},
     "output_type": "execute_result"
    }
   ],
   "source": [
    "\n",
    "sesgos = modelo.layers[0].get_weights()[1]\n",
    "sesgos"
   ]
  },
  {
   "cell_type": "code",
   "execution_count": 648,
   "metadata": {},
   "outputs": [
    {
     "data": {
      "text/plain": [
       "array([[ -6.7],\n",
       "       [  7.4],\n",
       "       [-12.8],\n",
       "       [  7. ],\n",
       "       [ 11.7]], dtype=float32)"
      ]
     },
     "execution_count": 648,
     "metadata": {},
     "output_type": "execute_result"
    }
   ],
   "source": [
    "modelo.predict_on_batch(datos['entradas']).round(1)[:5, :]"
   ]
  },
  {
   "cell_type": "code",
   "execution_count": 649,
   "metadata": {},
   "outputs": [
    {
     "data": {
      "text/plain": [
       "array([[ -7.5],\n",
       "       [  7.9],\n",
       "       [-12.5],\n",
       "       [  7.9],\n",
       "       [ 11.9]])"
      ]
     },
     "execution_count": 649,
     "metadata": {},
     "output_type": "execute_result"
    }
   ],
   "source": [
    "datos['targets'].round(1)[:5, :]"
   ]
  },
  {
   "cell_type": "markdown",
   "metadata": {},
   "source": [
    "## Graficar los datos\n",
    "\n",
    "El modelo está ya optimizado, por lo que las salidas se han calculado sobre la última forma, o el último estado, del modelo.\n",
    "\n",
    "Es necesario comprimir o empacar **\"squeeze\"** los arreglos para dejarlos en un formato que es el esperado por la función graficadora.  No cambia nada ya que se dejaron dimensiones de tamaño 1 - solo es un tecnisismo"
   ]
  },
  {
   "cell_type": "markdown",
   "metadata": {},
   "source": [
    "### Con matplotlib"
   ]
  },
  {
   "cell_type": "code",
   "execution_count": 650,
   "metadata": {},
   "outputs": [
    {
     "data": {
      "image/png": "[encoded data removed]",
      "text/plain": [
       "<Figure size 640x480 with 1 Axes>"
      ]
     },
     "metadata": {},
     "output_type": "display_data"
    }
   ],
   "source": [
    "plt.plot(np.squeeze(modelo.predict_on_batch(datos['entradas'])), \n",
    "         np.squeeze(datos['targets']))\n",
    "plt.xlabel('predicciones')\n",
    "plt.ylabel('metas')\n",
    "plt.show()"
   ]
  },
  {
   "cell_type": "markdown",
   "metadata": {},
   "source": [
    "### Con Plotly Express"
   ]
  },
  {
   "cell_type": "code",
   "execution_count": 651,
   "metadata": {},
   "outputs": [
    {
     "data": {
      "application/vnd.plotly.v1+json": {
       "config": {
        "plotlyServerURL": "https://plot.ly"
       },
       "data": [
        {
         "hovertemplate": "x=%{x}<br>y=%{y}<extra></extra>",
         "legendgroup": "",
         "marker": {
          "color": "#636efa",
          "symbol": "circle"
         },
         "mode": "markers",
         "name": "",
         "orientation": "v",
         "showlegend": false,
         "type": "scatter",
         "x": [
          -6.746237277984619,
          7.393968105316162,
          -12.780828475952148,
          7.001983165740967,
          11.676580429077148,
          -12.680028915405273,
          3.460134983062744,
          -24.121381759643555,
          4.743255615234375,
          -9.570030212402344,
          -20.79270362854004,
          1.2237777709960938,
          -2.246537208557129,
          47.53140640258789,
          16.113161087036133,
          39.232051849365234,
          2.212752342224121,
          42.01325607299805,
          -10.101850509643555,
          -17.523630142211914,
          12.88848876953125,
          -18.91629409790039,
          18.6958065032959,
          2.511970043182373,
          -0.38874387741088867,
          2.5925650596618652,
          -40.4838752746582,
          -30.1119327545166,
          -16.024641036987305,
          4.736546039581299,
          3.762753963470459,
          20.34807777404785,
          2.199178695678711,
          48.36029815673828,
          16.164945602416992,
          33.266510009765625,
          -4.25713586807251,
          -29.800432205200195,
          25.347089767456055,
          -0.19580936431884766,
          7.327420711517334,
          -18.905439376831055,
          9.871976852416992,
          -15.490217208862305,
          30.63896369934082,
          -11.303707122802734,
          -16.180601119995117,
          21.854843139648438,
          -23.279754638671875,
          -18.630022048950195,
          -12.34416389465332,
          13.947208404541016,
          7.843230247497559,
          -14.26746940612793,
          15.516838073730469,
          -1.622847080230713,
          8.668342590332031,
          -18.091739654541016,
          -27.862668991088867,
          5.093674182891846,
          13.25823974609375,
          4.474771976470947,
          10.630664825439453,
          -29.65668296813965,
          5.17807674407959,
          22.85749053955078,
          23.45842170715332,
          10.788633346557617,
          -38.050960540771484,
          13.97500228881836,
          12.525362014770508,
          -7.9637131690979,
          -25.24556541442871,
          6.902400493621826,
          39.47951889038086,
          -0.2582364082336426,
          3.735996723175049,
          19.17119598388672,
          20.393781661987305,
          34.34355545043945,
          -11.50678825378418,
          -8.523027420043945,
          0.01452779769897461,
          -0.19488763809204102,
          16.338058471679688,
          -13.990764617919922,
          3.478492259979248,
          9.62478256225586,
          -16.426746368408203,
          9.209126472473145,
          15.69013786315918,
          40.5811653137207,
          5.028092861175537,
          -26.353818893432617,
          26.030452728271484,
          29.398263931274414,
          -13.958650588989258,
          2.990166187286377,
          11.106727600097656,
          10.072746276855469,
          30.668745040893555,
          -4.831760883331299,
          3.9060449600219727,
          -5.177174091339111,
          6.062618732452393,
          31.594968795776367,
          15.607412338256836,
          -25.667713165283203,
          30.537328720092773,
          -10.66789436340332,
          -34.55854034423828,
          -0.6815075874328613,
          40.89793014526367,
          -29.03547477722168,
          32.942955017089844,
          44.53920364379883,
          10.531404495239258,
          3.833705425262451,
          -12.871017456054688,
          -26.861202239990234,
          22.724407196044922,
          -34.880775451660156,
          40.50770950317383,
          1.7200112342834473,
          12.91213607788086,
          0.3082098960876465,
          32.38738250732422,
          -7.019291400909424,
          1.199195384979248,
          -39.289329528808594,
          14.194387435913086,
          13.637439727783203,
          -17.50792694091797,
          -5.169153690338135,
          -3.9871678352355957,
          -21.49529457092285,
          -33.46997833251953,
          21.917707443237305,
          31.87830924987793,
          -24.099388122558594,
          -7.21351957321167,
          12.60852336883545,
          28.941835403442383,
          -26.96867561340332,
          -2.1925048828125,
          33.25960159301758,
          23.264087677001953,
          24.399826049804688,
          8.696941375732422,
          -5.36022424697876,
          33.21434020996094,
          43.25227737426758,
          10.532779693603516,
          -12.640905380249023,
          27.500032424926758,
          -2.8877148628234863,
          34.26960754394531,
          26.899003982543945,
          -11.798727035522461,
          46.25825881958008,
          -24.81450653076172,
          24.359304428100586,
          38.70716094970703,
          22.124921798706055,
          36.308963775634766,
          17.611387252807617,
          25.644338607788086,
          2.986558437347412,
          -7.953528881072998,
          25.069074630737305,
          -22.412492752075195,
          -14.273893356323242,
          -8.977558135986328,
          12.501150131225586,
          9.14923095703125,
          43.8151741027832,
          22.39436149597168,
          13.379169464111328,
          -15.14042854309082,
          1.953519344329834,
          37.02468490600586,
          14.562005996704102,
          28.981271743774414,
          48.3775749206543,
          24.523393630981445,
          21.22951889038086,
          5.56948184967041,
          30.435266494750977,
          -17.792644500732422,
          8.706710815429688,
          25.099123001098633,
          35.31501388549805,
          -10.528244018554688,
          -27.741689682006836,
          11.304486274719238,
          13.037542343139648,
          -19.44878387451172,
          26.117483139038086,
          11.37628173828125,
          13.658496856689453,
          -0.7771496772766113,
          14.867685317993164,
          -31.9495906829834,
          11.256172180175781,
          25.04613494873047,
          4.6950364112854,
          -30.609601974487305,
          -14.479372024536133,
          35.29065704345703,
          2.4359846115112305,
          -19.557649612426758,
          30.67864418029785,
          8.671737670898438,
          -11.098234176635742,
          -5.934620380401611,
          9.37535285949707,
          -2.405111312866211,
          21.194154739379883,
          22.143308639526367,
          -18.205425262451172,
          43.96682357788086,
          1.3354682922363281,
          12.22389030456543,
          -11.552999496459961,
          3.440674304962158,
          31.33515167236328,
          -24.2957706451416,
          -28.048715591430664,
          18.311298370361328,
          -16.16847038269043,
          21.48586082458496,
          30.000757217407227,
          -13.867179870605469,
          -7.015164852142334,
          7.039513111114502,
          22.0994873046875,
          6.796111583709717,
          0.06510114669799805,
          26.281150817871094,
          10.451635360717773,
          11.64035415649414,
          32.611488342285156,
          -13.239137649536133,
          41.08769226074219,
          2.9477734565734863,
          -13.83694839477539,
          15.846961975097656,
          42.6868782043457,
          36.33975601196289,
          38.37976837158203,
          -28.967992782592773,
          35.01947021484375,
          37.26177215576172,
          -3.613969326019287,
          -2.841705799102783,
          -20.695405960083008,
          14.802120208740234,
          -8.569669723510742,
          -7.850971698760986,
          -34.217430114746094,
          -17.300762176513672,
          12.660380363464355,
          30.417726516723633,
          -18.135717391967773,
          -1.6833510398864746,
          11.978185653686523,
          -0.6688008308410645,
          24.206071853637695,
          -20.671173095703125,
          9.449461936950684,
          5.4861016273498535,
          -17.840604782104492,
          23.410539627075195,
          14.445110321044922,
          19.661014556884766,
          -13.64223861694336,
          -27.71000099182129,
          -3.480288028717041,
          -20.805011749267578,
          20.381742477416992,
          23.143413543701172,
          -22.301977157592773,
          -33.6859016418457,
          2.9600911140441895,
          49.14455032348633,
          -22.401826858520508,
          6.163156032562256,
          0.12734365463256836,
          38.347904205322266,
          23.590940475463867,
          -20.098718643188477,
          9.838068008422852,
          4.22002649307251,
          29.44527244567871,
          9.501104354858398,
          -3.761331081390381,
          31.615737915039062,
          25.01606559753418,
          -14.701786041259766,
          51.49200439453125,
          16.012685775756836,
          28.484941482543945,
          37.84766387939453,
          -29.943185806274414,
          -1.9880619049072266,
          14.334680557250977,
          37.12757110595703,
          22.135995864868164,
          -14.361274719238281,
          -24.162500381469727,
          -16.53184700012207,
          2.4310479164123535,
          9.370437622070312,
          3.2571749687194824,
          2.0676331520080566,
          1.8019671440124512,
          29.25923728942871,
          14.950784683227539,
          26.05156898498535,
          21.103288650512695,
          -23.980802536010742,
          -21.52733039855957,
          8.574070930480957,
          46.580440521240234,
          -1.7263717651367188,
          -21.01165771484375,
          12.252933502197266,
          36.418678283691406,
          27.399656295776367,
          -10.051803588867188,
          46.81756591796875,
          5.509402751922607,
          -27.144880294799805,
          28.16682243347168,
          12.354562759399414,
          23.171268463134766,
          -35.02702713012695,
          -12.377847671508789,
          -4.443417072296143,
          -17.381868362426758,
          16.280902862548828,
          -5.462338924407959,
          10.610208511352539,
          -24.492704391479492,
          -13.971590042114258,
          14.917703628540039,
          -25.123624801635742,
          -12.907896041870117,
          -19.20631217956543,
          -24.242830276489258,
          26.803600311279297,
          14.524053573608398,
          -2.766238212585449,
          20.463987350463867,
          33.8039665222168,
          33.20370101928711,
          17.696731567382812,
          36.630706787109375,
          19.735763549804688,
          3.685863971710205,
          -2.620980739593506,
          -4.59817361831665,
          -25.1950626373291,
          38.25132751464844,
          35.40298080444336,
          8.904321670532227,
          40.6154670715332,
          -1.1853909492492676,
          -15.163206100463867,
          11.204334259033203,
          -9.515945434570312,
          -6.147288799285889,
          30.418359756469727,
          17.642337799072266,
          23.820268630981445,
          13.597150802612305,
          -27.513559341430664,
          -16.16425895690918,
          3.319756031036377,
          7.093471527099609,
          -3.3520255088806152,
          38.63569259643555,
          35.58880615234375,
          14.451654434204102,
          2.9208407402038574,
          -12.710844039916992,
          9.30748176574707,
          -6.166557788848877,
          7.232371807098389,
          8.255970001220703,
          19.60620880126953,
          -31.07954216003418,
          4.701140880584717,
          43.369110107421875,
          -2.265841007232666,
          49.576114654541016,
          12.071918487548828,
          13.968460083007812,
          13.704000473022461,
          30.73290252685547,
          -19.61878204345703,
          18.413761138916016,
          -13.897253036499023,
          -20.884958267211914,
          -21.700031280517578,
          31.12152671813965,
          -6.161585330963135,
          2.5812535285949707,
          19.310623168945312,
          15.056255340576172,
          24.797452926635742,
          -14.551828384399414,
          -30.43161964416504,
          18.082164764404297,
          44.779266357421875,
          48.28395462036133,
          20.687768936157227,
          22.688634872436523,
          -2.5296249389648438,
          3.3661293983459473,
          -0.522303581237793,
          17.777305603027344,
          -22.147354125976562,
          28.443960189819336,
          30.377058029174805,
          34.29714584350586,
          -3.3979601860046387,
          15.410221099853516,
          -9.569854736328125,
          -1.576265811920166,
          -5.232210636138916,
          -4.061680316925049,
          19.232009887695312,
          16.04693603515625,
          -24.05164337158203,
          24.339624404907227,
          -8.814779281616211,
          -15.130849838256836,
          -33.35554885864258,
          -21.986534118652344,
          -10.864555358886719,
          5.794189453125,
          27.325918197631836,
          38.84320068359375,
          29.399600982666016,
          -22.72559928894043,
          -10.001474380493164,
          1.497189998626709,
          -14.675725936889648,
          -7.620795726776123,
          -9.10372543334961,
          24.732362747192383,
          -4.571609973907471,
          36.365936279296875,
          -22.257036209106445,
          27.180707931518555,
          1.1527695655822754,
          2.974702835083008,
          7.464995861053467,
          4.894113063812256,
          10.971609115600586,
          -7.6385626792907715,
          25.006010055541992,
          17.86465072631836,
          4.215710163116455,
          -1.8120198249816895,
          13.377302169799805,
          17.186452865600586,
          27.093168258666992,
          6.539535045623779,
          20.808753967285156,
          -27.02194595336914,
          12.90455436706543,
          44.103267669677734,
          26.029813766479492,
          7.440356731414795,
          20.865398406982422,
          26.972436904907227,
          -11.01948356628418,
          -17.342151641845703,
          -1.553189754486084,
          -24.877254486083984,
          16.718103408813477,
          15.382471084594727,
          9.546594619750977,
          -34.6220817565918,
          -8.421144485473633,
          25.707111358642578,
          -12.210479736328125,
          -0.8137516975402832,
          -35.49583053588867,
          4.535761833190918,
          14.214010238647461,
          23.592885971069336,
          13.89335823059082,
          -10.433320999145508,
          19.092504501342773,
          5.113484859466553,
          24.667858123779297,
          13.374271392822266,
          -6.24828577041626,
          11.20541763305664,
          1.1163716316223145,
          0.2295551300048828,
          -12.97553825378418,
          40.76530838012695,
          0.26992177963256836,
          -11.135929107666016,
          19.66636848449707,
          -11.114065170288086,
          -6.0739617347717285,
          -7.852346897125244,
          -15.59576416015625,
          33.6563606262207,
          30.071016311645508,
          -41.51365280151367,
          48.16884994506836,
          -10.595939636230469,
          45.59623336791992,
          28.456045150756836,
          -15.032672882080078,
          -16.231178283691406,
          18.523067474365234,
          12.371546745300293,
          -11.969636917114258,
          -5.506697177886963,
          0.859438419342041,
          17.46691131591797,
          29.295866012573242,
          2.2629923820495605,
          -7.644867420196533,
          35.71737289428711,
          26.463417053222656,
          2.718435764312744,
          38.97300720214844,
          14.509798049926758,
          -9.173084259033203,
          36.95229721069336,
          18.960962295532227,
          -1.1478757858276367,
          7.702154636383057,
          12.687877655029297,
          32.08961486816406,
          -9.85067367553711,
          -9.826623916625977,
          -41.321529388427734,
          21.922658920288086,
          -4.720198154449463,
          5.612896919250488,
          48.38786697387695,
          27.654495239257812,
          -23.411638259887695,
          -15.949024200439453,
          -13.115665435791016,
          37.2213249206543,
          7.893582820892334,
          -8.89506721496582,
          20.651288986206055,
          -4.025886058807373,
          -27.75590705871582,
          22.303173065185547,
          -6.572224140167236,
          24.0412654876709,
          -28.18465232849121,
          -11.413736343383789,
          -9.123254776000977,
          -14.987075805664062,
          -22.340824127197266,
          38.63039779663086,
          -4.675033092498779,
          32.80484390258789,
          -11.033538818359375,
          21.9240665435791,
          -19.854007720947266,
          -11.650468826293945,
          19.654277801513672,
          34.79623794555664,
          -6.608456134796143,
          44.43842697143555,
          48.5393180847168,
          23.165063858032227,
          44.725311279296875,
          -15.964366912841797,
          17.839519500732422,
          16.870656967163086,
          1.7486205101013184,
          -28.141706466674805,
          -23.72066307067871,
          12.477500915527344,
          19.06511116027832,
          -37.65443420410156,
          -3.218801975250244,
          -9.949563980102539,
          41.49664306640625,
          34.79951477050781,
          25.821165084838867,
          -10.355283737182617,
          -9.667381286621094,
          4.6971869468688965,
          14.67695426940918,
          -8.827217102050781,
          2.334911346435547,
          -16.75659942626953,
          7.491458415985107,
          -22.170690536499023,
          31.304140090942383,
          36.98933410644531,
          45.34156799316406,
          -13.826953887939453,
          20.64130973815918,
          -27.941415786743164,
          2.774296283721924,
          4.231452465057373,
          34.0400390625,
          -6.433313846588135,
          3.9201741218566895,
          -3.0700831413269043,
          -31.151586532592773,
          22.256574630737305,
          1.3673973083496094,
          -6.605209827423096,
          -1.2195229530334473,
          -14.379695892333984,
          15.005487442016602,
          52.42097854614258,
          -16.243183135986328,
          -16.275968551635742,
          -3.181858539581299,
          1.1565070152282715,
          -13.755294799804688,
          -25.183629989624023,
          13.201128005981445,
          14.185066223144531,
          24.216480255126953,
          4.2110209465026855,
          -9.730684280395508,
          29.836933135986328,
          -20.005144119262695,
          14.641572952270508,
          27.222082138061523,
          -25.397977828979492,
          -24.661041259765625,
          -7.05175256729126,
          36.91889953613281,
          1.1664886474609375,
          -14.104936599731445,
          7.027573585510254,
          22.94838523864746,
          -10.542272567749023,
          -38.128536224365234,
          19.764179229736328,
          11.268943786621094,
          11.982685089111328,
          -21.152158737182617,
          35.71723556518555,
          -13.671770095825195,
          -9.166770935058594,
          18.26340675354004,
          -4.721538066864014,
          24.377147674560547,
          -6.471140384674072,
          -13.100788116455078,
          -2.4331893920898438,
          44.97993850708008,
          28.093278884887695,
          22.361648559570312,
          26.453527450561523,
          -16.300676345825195,
          31.446067810058594,
          14.678703308105469,
          11.349651336669922,
          -14.845331192016602,
          -28.957304000854492,
          -16.243932723999023,
          -19.980825424194336,
          -2.4712729454040527,
          -25.56886863708496,
          -7.612542629241943,
          22.665021896362305,
          9.155611038208008,
          3.01056170463562,
          -11.51595687866211,
          -5.11181116104126,
          6.572615146636963,
          13.161882400512695,
          -4.305904865264893,
          6.847262859344482,
          17.807693481445312,
          6.1244215965271,
          -37.583133697509766,
          -10.266365051269531,
          -14.217092514038086,
          24.412105560302734,
          -40.75102615356445,
          -1.8459105491638184,
          2.434835195541382,
          30.71367645263672,
          -12.568208694458008,
          7.509246826171875,
          -12.927240371704102,
          28.327749252319336,
          -19.142967224121094,
          -20.522125244140625,
          29.6071834564209,
          2.6078720092773438,
          -23.071195602416992,
          10.64961051940918,
          -6.14645528793335,
          9.04513931274414,
          40.1478157043457,
          40.75272750854492,
          30.06087303161621,
          -11.31112289428711,
          17.103445053100586,
          -15.833267211914062,
          14.06656265258789,
          -18.343929290771484,
          6.670762538909912,
          38.087284088134766,
          21.335861206054688,
          29.304113388061523,
          -10.108804702758789,
          24.913408279418945,
          -0.8922510147094727,
          -9.048501968383789,
          45.44949722290039,
          25.746858596801758,
          -5.695084095001221,
          -38.78984832763672,
          -14.087661743164062,
          -33.97429656982422,
          45.70016098022461,
          -36.49460220336914,
          14.881807327270508,
          -21.359859466552734,
          35.45378494262695,
          -23.691740036010742,
          13.200376510620117,
          -11.354555130004883,
          -6.535240650177002,
          1.828035831451416,
          -14.612569808959961,
          22.365835189819336,
          -19.16326332092285,
          -0.8771018981933594,
          -12.861883163452148,
          18.995012283325195,
          -21.184337615966797,
          -36.338802337646484,
          45.52137756347656,
          -1.8457412719726562,
          15.353479385375977,
          -9.013814926147461,
          -19.868696212768555,
          -9.889997482299805,
          3.835244655609131,
          -19.071413040161133,
          5.482242107391357,
          -7.720163822174072,
          18.515287399291992,
          11.63111686706543,
          27.88604736328125,
          -13.384923934936523,
          39.251041412353516,
          -7.548172473907471,
          17.794729232788086,
          -4.876762866973877,
          10.939657211303711,
          14.618927001953125,
          -0.768679141998291,
          -20.756351470947266,
          0.9849658012390137,
          -1.1928410530090332,
          4.093635082244873,
          2.9843459129333496,
          9.332733154296875,
          27.77433967590332,
          -1.521944522857666,
          -15.44314956665039,
          -6.669863224029541,
          16.07891273498535,
          -16.269987106323242,
          22.579498291015625,
          1.0075860023498535,
          -1.4510698318481445,
          13.418115615844727,
          39.165828704833984,
          10.975200653076172,
          -7.788748264312744,
          -11.0953369140625,
          -19.45355987548828,
          13.200450897216797,
          -31.32673454284668,
          -7.507748126983643,
          -2.773711681365967,
          -0.6871681213378906,
          -20.14805030822754,
          27.814699172973633,
          -16.6666202545166,
          27.2027530670166,
          -12.632410049438477,
          -22.5382022857666,
          -35.628238677978516,
          15.399333953857422,
          3.563000202178955,
          -35.629112243652344,
          4.447572708129883,
          -4.554792881011963,
          -6.202330112457275,
          35.705291748046875,
          22.7497615814209,
          28.979461669921875,
          -3.9144129753112793,
          46.8380241394043,
          36.45581817626953,
          -7.009678363800049,
          -28.995786666870117,
          22.4383602142334,
          27.642953872680664,
          31.20994758605957,
          5.654036998748779,
          -4.231662273406982,
          17.33555030822754,
          6.64192008972168,
          9.245967864990234,
          -10.341365814208984,
          21.992753982543945,
          -4.1281418800354,
          23.075572967529297,
          49.32865524291992,
          -5.7754130363464355,
          -7.211672306060791,
          -21.55564308166504,
          32.13747024536133,
          5.690119743347168,
          -39.0815315246582,
          -17.419872283935547,
          8.514228820800781,
          47.06724548339844,
          -6.594610691070557,
          43.808738708496094,
          -3.981987476348877,
          27.385555267333984,
          -16.52241325378418,
          18.292133331298828,
          5.218978404998779,
          -2.4766011238098145,
          -7.454927921295166,
          -5.011061191558838,
          2.2415518760681152,
          37.053993225097656,
          -20.794095993041992,
          -3.1649975776672363,
          7.547420978546143,
          29.112455368041992,
          9.802030563354492,
          -25.5166015625,
          -5.336623668670654,
          -39.57583236694336,
          16.87601089477539,
          32.84532928466797,
          6.782719135284424,
          31.51167106628418,
          22.572580337524414,
          -38.44129943847656,
          13.906991958618164,
          6.2359938621521,
          -0.02665424346923828,
          -9.826004028320312,
          23.389856338500977,
          -30.42287254333496,
          32.29344177246094,
          -5.877989292144775,
          0.9374942779541016,
          -1.319908618927002,
          31.397571563720703,
          27.597238540649414,
          14.792779922485352,
          -8.954019546508789,
          0.507544994354248,
          33.03111267089844,
          -32.62064743041992,
          4.985843181610107,
          33.629737854003906,
          24.840105056762695,
          24.398685455322266,
          -7.91995096206665,
          -3.7639412879943848,
          11.924005508422852,
          2.174515724182129,
          35.921913146972656,
          -13.768709182739258,
          27.00200653076172,
          24.1533145904541,
          4.101069927215576,
          31.569141387939453,
          -3.444619655609131,
          18.25509262084961,
          -9.183328628540039,
          -30.571622848510742,
          29.252382278442383,
          34.52991485595703,
          22.828990936279297,
          -18.199892044067383,
          10.491045951843262,
          15.45193099975586,
          25.986629486083984,
          2.260619640350342,
          16.823911666870117,
          -19.963075637817383,
          6.672204494476318,
          -7.298605442047119,
          -1.239941120147705,
          50.4290657043457,
          -13.831186294555664,
          10.188800811767578,
          43.78410339355469,
          12.907733917236328,
          0.4589228630065918,
          8.799137115478516,
          10.719205856323242,
          21.293630599975586,
          18.31001853942871,
          16.667123794555664,
          -27.96409797668457,
          -2.176260471343994,
          10.645973205566406,
          -12.327852249145508,
          -3.9033942222595215,
          38.404808044433594,
          -22.561140060424805,
          21.35594940185547,
          2.7268309593200684,
          -30.068506240844727,
          -21.27924346923828,
          7.673776149749756,
          33.40212631225586,
          -0.23695993423461914,
          -16.91030502319336,
          10.249406814575195,
          -6.761698246002197,
          -1.6442828178405762,
          0.6462407112121582,
          23.636821746826172,
          24.416099548339844,
          -26.887685775756836,
          8.190990447998047,
          -2.1286396980285645,
          -14.195249557495117,
          -8.897722244262695,
          -4.590041637420654,
          -10.62331771850586,
          -34.2352409362793,
          -6.561418056488037,
          9.053781509399414,
          40.86813735961914,
          -11.711921691894531,
          -9.028234481811523,
          -20.181352615356445,
          7.874435901641846,
          3.6493048667907715,
          11.975852966308594,
          -13.371196746826172,
          6.685870170593262,
          16.927921295166016,
          36.13362503051758,
          34.921730041503906,
          -5.4176459312438965,
          14.533428192138672,
          -30.386423110961914,
          -0.23682069778442383,
          -1.0337138175964355,
          2.5616984367370605,
          42.011375427246094,
          21.27964973449707,
          -31.723844528198242,
          35.357704162597656,
          15.044286727905273,
          31.981599807739258,
          29.20530128479004,
          8.970688819885254,
          -22.942081451416016,
          30.75411033630371,
          10.935907363891602,
          26.865930557250977,
          -1.6661806106567383,
          43.995147705078125,
          -7.480803966522217,
          18.909265518188477,
          -24.457178115844727,
          0.7927193641662598,
          -9.03359603881836,
          -37.15199661254883,
          26.4681453704834,
          -32.29402160644531,
          -25.156160354614258,
          27.361452102661133,
          -6.019833087921143,
          13.221860885620117,
          -26.072996139526367
         ],
         "xaxis": "x",
         "y": [
          -7.511709380229576,
          7.868501846256019,
          -12.501282931396133,
          7.864397996978099,
          11.913789169990673,
          -12.092049835746606,
          3.513040627311594,
          -23.61458101724247,
          4.762208920946967,
          -9.416674591336943,
          -21.72391308866557,
          1.0217702318155524,
          -2.7392245734013256,
          47.28122593723332,
          15.204465981026722,
          39.111643545238834,
          3.0058943288974556,
          42.36825334080363,
          -9.37362216020447,
          -17.775705259719984,
          13.547723421695895,
          -19.799727832111838,
          19.30379144119191,
          3.281062282787276,
          -0.010891825546988532,
          2.9039488269368987,
          -41.12574954339694,
          -30.626121004704466,
          -16.853072207878302,
          4.750087128021433,
          3.5801141227484745,
          20.555375966799826,
          2.270409329195857,
          49.18624026898415,
          15.457232876077242,
          32.44190602791065,
          -4.9387759230217245,
          -29.241413582070805,
          24.7679452226872,
          0.3747650967963543,
          6.470518685844484,
          -18.46516189019152,
          9.832178572223393,
          -16.086675901318493,
          30.964402438957304,
          -12.01640205549715,
          -17.120352857276515,
          22.752824957383037,
          -23.591158990601354,
          -18.859330549111267,
          -11.391814091872899,
          13.774566138056299,
          8.012019922599185,
          -15.17995368598668,
          15.03743061995174,
          -2.58144488971418,
          8.278995297639081,
          -18.71595816201393,
          -28.35205368268981,
          4.690958491511863,
          12.47258326577084,
          3.6595834420780946,
          10.75617619679009,
          -29.51738074488645,
          4.311639284010024,
          23.774814401269325,
          23.328143707730487,
          11.298865557223666,
          -37.12711447051458,
          13.335851963001476,
          12.109320542562507,
          -8.551672517054623,
          -24.67704330283584,
          7.861190022829172,
          38.792006244909466,
          0.7467616745466095,
          4.5040544258167525,
          19.460941453471893,
          19.867854953457172,
          33.5519287004057,
          -11.460010064759858,
          -7.784871074222528,
          -0.13408059895660762,
          0.5000461447426083,
          17.045512013870486,
          -13.910958877336455,
          3.15655740365829,
          10.066738811885315,
          -17.015892229067852,
          9.588317541411673,
          15.376944896703662,
          40.568639481330564,
          5.3409242972883995,
          -27.041714607530015,
          26.99353310634126,
          29.028066875796547,
          -14.430665466901832,
          3.0384347242260246,
          11.724826380305267,
          10.551185126303885,
          31.06247218836374,
          -3.8784581510267477,
          3.136345115353289,
          -5.704594174982978,
          5.390395193721658,
          31.984886888389717,
          15.68989612576705,
          -24.78771849163165,
          30.078652772998154,
          -11.618021990057011,
          -34.40219759935358,
          -0.9539812807856594,
          41.00454072112826,
          -28.98066556228434,
          32.63976305470539,
          44.070945754529106,
          9.802447797439747,
          2.930436882119028,
          -12.029714084009212,
          -27.460285247802155,
          22.51198082832094,
          -35.131488151062214,
          41.480701708517884,
          2.1771633216750166,
          12.791644366068383,
          -0.33298716312945387,
          33.07411529138905,
          -7.51023461111165,
          0.20416722149766664,
          -38.704698996606965,
          14.064905779453312,
          12.80590814038101,
          -16.91870686674949,
          -4.428511534241289,
          -3.1959545616575924,
          -22.340591807308034,
          -33.36505924674259,
          22.40029396245186,
          31.53359501445172,
          -23.46800343259973,
          -7.201048144914443,
          12.309305594373798,
          29.2435136480506,
          -27.359952400211505,
          -3.0221641777687487,
          32.869199956915075,
          23.737056105867754,
          25.391273060119904,
          9.069470480744453,
          -6.219490070779995,
          33.28620291138768,
          42.82102082276114,
          10.655932107760275,
          -12.764422264107715,
          28.405847200455774,
          -2.5834167942120194,
          33.40718438568011,
          26.514033866941862,
          -12.405533297479172,
          45.651813683406814,
          -24.12737300354079,
          24.505444911684368,
          39.641561585799764,
          22.41116367803254,
          35.8424876345192,
          17.30140119825016,
          26.148551727490638,
          2.936000597777344,
          -6.9549534343955415,
          24.980341080257723,
          -21.875287422592102,
          -14.512484256592067,
          -9.556190074752623,
          13.131434011086787,
          9.508449665479764,
          43.963659668223755,
          21.569202051466405,
          12.491985203892774,
          -15.074287055102742,
          2.5595224721660133,
          37.61705150031343,
          15.07358210420055,
          29.14222618327526,
          48.656267102003405,
          25.4903990615435,
          21.232932300398616,
          4.715242878072148,
          30.947354601046214,
          -18.613611696097944,
          8.508041540476338,
          25.80649965766141,
          34.52075200341149,
          -10.220103945454644,
          -27.72206083335996,
          10.805488328857981,
          12.680384772105786,
          -20.11124924317771,
          25.330254828714406,
          10.425146535919504,
          14.097760277029646,
          -0.3149711763895411,
          14.280535446673138,
          -31.86144506852804,
          11.503917053819373,
          24.542236494003696,
          5.608183224396294,
          -31.096973286559276,
          -14.024530898743619,
          36.08323085668012,
          1.604381995978671,
          -18.895494597754283,
          30.706106132034346,
          7.829816894520784,
          -11.049239316655196,
          -4.951441175063941,
          8.459791671172873,
          -1.874450774348247,
          21.645327421857715,
          21.316818036060322,
          -17.71911301412051,
          43.99690407994126,
          1.218373776405084,
          13.197481581538726,
          -11.771291126343092,
          3.281809158790095,
          32.00287590617679,
          -23.795144543388954,
          -28.849309241403535,
          18.0048453192525,
          -16.422440100793082,
          22.169095658779067,
          30.404430421321358,
          -12.931810326571547,
          -6.10082241390891,
          6.84404017428659,
          21.208229461875224,
          7.501882665825004,
          0.8523463160383478,
          26.709844411229685,
          9.988341995971366,
          12.297026037089227,
          31.806870608271165,
          -12.542086768828824,
          40.51371910209448,
          3.3198023113935085,
          -14.741720823940888,
          16.82693165692623,
          42.866509386481304,
          36.19542501383251,
          37.96904074419227,
          -29.777100191745653,
          35.78817082363898,
          36.87653633187609,
          -3.648222189571632,
          -2.389631954701654,
          -21.301309615698685,
          15.6400266727772,
          -7.617445771656831,
          -7.610022675253246,
          -33.79132021064839,
          -17.05611381395403,
          13.130749611476347,
          29.47771018367061,
          -18.738447345582852,
          -1.964310425163785,
          11.693330528862111,
          -0.21475560646956704,
          24.898966324175845,
          -20.17078933610845,
          9.015317386076267,
          4.598239635317801,
          -17.341012502611477,
          23.284832965095937,
          13.554199292116774,
          19.05449339210075,
          -14.176797976241131,
          -27.335264881459022,
          -3.9984578375048017,
          -20.172581319489716,
          19.41974793191309,
          23.213090429916043,
          -22.606942406699048,
          -33.576078140748,
          2.943338601803779,
          48.23127586282453,
          -22.06525596201143,
          6.527146682358357,
          -0.8517985679815208,
          37.45438208019388,
          22.693402689708073,
          -20.41026809476811,
          9.603568911258357,
          4.530617441402569,
          29.83671421430816,
          9.644625735210129,
          -3.6909596182908087,
          31.717807060638215,
          24.84032556578207,
          -14.069017365090202,
          50.90586079116567,
          16.25105751333795,
          27.933304363042566,
          37.72475824987761,
          -29.66671212316387,
          -1.7865132607511292,
          13.8122970057805,
          36.25916677994616,
          22.3131448940667,
          -13.627410184869571,
          -23.70066228370995,
          -15.818576531942593,
          1.6065003939226257,
          8.826480076821072,
          3.3056418376835035,
          1.938661386612898,
          1.0421092692869596,
          28.40003685061154,
          15.347138015599276,
          26.46749557660366,
          21.071029834926538,
          -23.57130210376635,
          -20.988331801604104,
          8.817070677630376,
          46.938870230619166,
          -1.9189719420954994,
          -21.472252603892912,
          12.889959560271755,
          35.798351666674876,
          26.808233809485365,
          -9.997147212549526,
          46.319811404432,
          5.6898103369178585,
          -26.445464826195362,
          28.723102426458556,
          12.210981990773139,
          23.181080321518277,
          -34.49847385674319,
          -12.155614254092447,
          -4.253957590831775,
          -16.924444319023948,
          16.402314820510615,
          -6.343467423203158,
          10.232242755176621,
          -24.588627685384814,
          -13.819264786370173,
          15.739937974784237,
          -24.796505142881898,
          -11.973850208336142,
          -19.630070419797963,
          -25.14152045995681,
          27.190235443870222,
          14.65844839347017,
          -2.9672872201874982,
          20.286767471814137,
          33.94294319851217,
          33.27815214312369,
          17.460155424317435,
          37.65364098434948,
          20.185738501900023,
          3.955209761293089,
          -2.397760875860073,
          -4.565060258280346,
          -24.504035139418036,
          38.69746383348717,
          36.01396273760556,
          9.712528878505307,
          39.877116932621504,
          -2.0683479827968534,
          -14.785270581610881,
          10.454242775624262,
          -10.460441414459913,
          -5.96546752737856,
          31.41512226443797,
          16.846083441817093,
          23.365966114831675,
          13.485081880339298,
          -26.801681129676762,
          -16.219369567031272,
          2.827183685298132,
          6.173358858365285,
          -2.4754775784542584,
          38.72789206726605,
          35.22045678470345,
          14.971386178639198,
          2.1227776951872133,
          -12.688149461641617,
          9.515835039019878,
          -6.456388793318782,
          6.714527876867954,
          9.034660757024335,
          19.461700242291794,
          -30.658851647478308,
          4.178868639294257,
          42.5019432322173,
          -1.2849864602712018,
          49.929670729033994,
          11.324564782652548,
          14.22406637313268,
          13.040405206881536,
          31.234057888886497,
          -19.26950623016564,
          18.996074684332875,
          -13.146958446595962,
          -20.41056953042441,
          -21.51247522497572,
          30.91460395817565,
          -7.086488563303772,
          2.0269340747796702,
          19.58075077219322,
          14.547715735467236,
          25.35630344566841,
          -13.615721823591011,
          -29.919479562657862,
          17.933142236911984,
          45.821202974998826,
          48.33493993989085,
          20.536540943807214,
          21.753287856132616,
          -1.973854702552322,
          4.11812672264793,
          -1.35046624728946,
          18.61012515688379,
          -21.789709886557375,
          29.328455562053637,
          30.175575061099607,
          34.44006532837023,
          -4.197084613252676,
          14.925419075665332,
          -9.80174170995355,
          -0.7794862287957103,
          -4.820784749075779,
          -3.504494262268623,
          18.527658928758008,
          16.94522927858041,
          -24.865221406068112,
          25.305611740408402,
          -9.433939076807668,
          -15.703835137523846,
          -33.19071606915664,
          -21.826971890627576,
          -9.914562295686661,
          5.57187847307484,
          27.44561338570324,
          39.59996642143562,
          28.696665041304467,
          -22.815782035631052,
          -10.006804950540765,
          1.6003531201112073,
          -14.230166058326455,
          -6.948513463317484,
          -10.079894536411011,
          24.728671952835978,
          -3.64229842256272,
          36.79374662195822,
          -23.16154625171204,
          26.91869093340469,
          1.3110799594474134,
          2.6929821700089938,
          8.025146404430368,
          5.428181957720048,
          11.955287825064666,
          -8.369098208086792,
          24.244107966748963,
          17.838181512581723,
          4.741245773912562,
          -1.291404177003292,
          13.277924971620648,
          16.68599925495011,
          26.776998426475906,
          7.5226132919221484,
          21.446634161254483,
          -27.429544775376467,
          13.859039982229252,
          44.024343551919046,
          26.530060920172595,
          8.001606257816155,
          20.663488131804776,
          26.446655507700008,
          -10.1494927247103,
          -18.13840453833749,
          -2.064604020387395,
          -24.77281858414142,
          17.200628160595677,
          15.950719552557489,
          9.01716072877665,
          -34.12112811540188,
          -9.26428163126872,
          26.269059371358434,
          -12.210333129506537,
          -1.4222590719127501,
          -34.696583016193976,
          5.545636710328875,
          14.906198255002632,
          23.90275430379563,
          13.40221818241441,
          -9.464490279752415,
          18.972858735841395,
          5.339891885453646,
          24.66527020874989,
          13.053787148139683,
          -5.3588653889822355,
          10.799193639545777,
          1.8422069801820191,
          0.28253035098640766,
          -13.361816086423442,
          41.58018478931933,
          0.38704116488759244,
          -10.385050759190888,
          19.857990960688415,
          -11.442129923692937,
          -6.589292067553481,
          -7.704789905951255,
          -15.566625732067992,
          33.487689757581435,
          30.91021207323532,
          -41.42719263348194,
          48.75838787755086,
          -9.926528332703844,
          44.72056157935281,
          29.146697446663133,
          -14.06541491177883,
          -16.599507157717643,
          18.659003450682402,
          13.390496629263732,
          -12.488074193683062,
          -5.448922877493825,
          -0.08343974783968355,
          17.82402963082516,
          29.762923105395608,
          3.263109848707556,
          -7.539701463653903,
          35.085614976135616,
          25.575469883489873,
          2.0426170717114673,
          39.544334070462895,
          13.718882962323201,
          -8.41773557637056,
          36.883852372300005,
          18.264364468466646,
          -0.9524735933983577,
          7.4416813463830565,
          13.141156777801964,
          32.55511426927325,
          -9.046427654398535,
          -9.853409313647358,
          -40.926178434441624,
          21.43885675848936,
          -3.901315646002976,
          6.575176651164899,
          48.80794985606948,
          28.293621652711604,
          -24.179314233712258,
          -16.704333817366233,
          -12.280266866172642,
          37.30613132959562,
          8.899810248834948,
          -9.603184682121107,
          19.710478206694226,
          -4.748451374452886,
          -27.780990107641887,
          22.55588049939984,
          -6.642779305001467,
          23.48324809893229,
          -28.974484907941,
          -10.65778966884345,
          -8.674715055681029,
          -15.665200891435802,
          -22.406481877382472,
          37.89521994913262,
          -4.589619477435429,
          32.73712378388384,
          -11.405613203673848,
          22.58798623830001,
          -19.26624766632474,
          -12.334949317789782,
          19.028513387293305,
          34.83208353990987,
          -5.710215712864777,
          44.62607850756004,
          48.22089386599653,
          22.30315695237962,
          45.29556934178006,
          -16.76169480429331,
          18.614369058615416,
          17.451478097923466,
          1.0321831485362334,
          -29.018718518691852,
          -23.446522079652816,
          11.542712897085888,
          18.747037727613623,
          -37.83359149673344,
          -3.594439520613184,
          -9.672052979123599,
          42.31482845902763,
          33.88229256082757,
          25.167869928011747,
          -11.132506454103327,
          -10.507637161791907,
          5.484642392333117,
          15.56879748517181,
          -9.489617008944782,
          1.7762339820635307,
          -17.362750813422235,
          8.528269567054984,
          -21.83754577599332,
          30.355722806040475,
          36.737575678852544,
          45.55942016295009,
          -13.92261545936021,
          19.753963558381244,
          -28.563434382057377,
          2.70422151075436,
          4.941327359580466,
          33.115180112406705,
          -5.711216325956682,
          3.0535974794527734,
          -2.658926263670063,
          -32.120681894152895,
          22.908859394217107,
          0.5264250815609124,
          -6.935029910091495,
          -1.544354981813078,
          -13.672275247987749,
          14.602021246148352,
          52.449593425235264,
          -15.53109307507102,
          -16.640394116581998,
          -3.1644960469260957,
          2.1616065024321607,
          -14.055128140570005,
          -25.057755050055583,
          12.796794020541924,
          14.896206284197241,
          23.271273155882938,
          4.631194977112173,
          -10.125647477577813,
          30.51169225537238,
          -19.51638029005353,
          13.918597495390852,
          26.389098325083037,
          -25.36802377497763,
          -24.60434584917656,
          -7.74633406584565,
          36.269514873336895,
          0.801175159971437,
          -13.580266457920926,
          7.5614707641508145,
          22.666675668117858,
          -10.664642903453977,
          -38.55243173798093,
          19.30126924251805,
          11.111462005471145,
          11.443611259031824,
          -21.818787759527368,
          36.535607217638834,
          -13.458967092028049,
          -10.156823318542644,
          18.385035113707872,
          -5.420748866868738,
          24.88209037013266,
          -6.762788715952095,
          -13.954458897554938,
          -1.8320100656173057,
          44.29937208380398,
          28.649209244240225,
          23.35010723557234,
          27.253753590495382,
          -16.955948140716245,
          31.82867158975093,
          15.036014541396803,
          12.064734185156542,
          -14.89827918757768,
          -28.45958572652418,
          -15.451145399223998,
          -19.468249908402733,
          -3.4493522348042296,
          -26.232241878144965,
          -6.994927456887714,
          22.845679630342936,
          9.372085735721852,
          2.375082148774778,
          -12.111107831696163,
          -4.5767699477746655,
          7.5145768239694215,
          12.597052975454062,
          -4.864470151591176,
          6.019865411045856,
          18.790885921359543,
          6.8967054377304295,
          -37.288550069087286,
          -11.227123190652911,
          -13.562927056606078,
          23.782458567124298,
          -40.102153603926695,
          -2.0889429813032443,
          1.8895444096889786,
          30.638175771944365,
          -12.2276195865548,
          7.195673973767074,
          -12.147994737925778,
          27.747100401846506,
          -20.025879775143288,
          -20.80126193590741,
          29.776788659419363,
          2.4372446676869837,
          -22.875129521205796,
          10.556875870079711,
          -6.306657655151264,
          9.511851909771837,
          39.731493462882,
          39.83282756590856,
          30.52433905863155,
          -11.666777552382722,
          17.383707718764867,
          -15.1259544745206,
          14.858021600756846,
          -17.356287133699823,
          7.459552276331365,
          38.64434292857614,
          22.280298788957563,
          29.41659736275477,
          -11.082041668607504,
          25.747805403115525,
          -0.751363131149686,
          -9.804022837093271,
          44.99489870115684,
          26.591275022595124,
          -5.17219740129907,
          -38.63214396235861,
          -13.845912634441838,
          -34.82499276477356,
          46.43710904544168,
          -36.951227140310884,
          14.814423284226764,
          -20.382071925907574,
          35.35161407141834,
          -23.233714100738766,
          14.09168960893912,
          -10.60777908315398,
          -6.951129591199124,
          1.2565272539846741,
          -14.181544166126354,
          21.592634639845677,
          -19.91807987941505,
          -1.3090388306694685,
          -13.02655924854756,
          19.95957078458554,
          -20.232896829312445,
          -35.964193686098184,
          44.80617992993143,
          -2.433368666610156,
          15.853610553791206,
          -9.380859618493984,
          -19.213095608176314,
          -8.94518287613499,
          4.43809795417983,
          -19.409929389766752,
          5.336016476078353,
          -7.427316802641549,
          19.434786307526768,
          12.557360060873888,
          27.800438815563684,
          -12.661607460318898,
          39.83700680327154,
          -8.207363419092339,
          18.505417520775875,
          -5.512313480227622,
          10.202019803937816,
          14.998008968279759,
          -1.6764996081332266,
          -20.913979010871163,
          0.934623944989726,
          -0.7955797650401801,
          4.451947172505044,
          2.2929566102633476,
          10.01315628511528,
          28.046567242730678,
          -1.896376401818733,
          -16.260869840176984,
          -6.546111429364343,
          16.57256250401177,
          -15.704244213502525,
          22.84891826447715,
          0.10614002577843351,
          -0.8010748843219053,
          14.281477859733938,
          39.71087337289669,
          10.93368627818086,
          -7.380090150509035,
          -11.014817337694547,
          -20.262893748338385,
          13.67945761640695,
          -31.021724063798253,
          -7.804906156130424,
          -2.1055754644419826,
          -0.6276559728053508,
          -20.135845433230372,
          26.931701637801662,
          -16.009856310961805,
          26.553783378151497,
          -12.932925358621617,
          -23.305106292934227,
          -35.686212816736116,
          15.922748645081134,
          3.0836579822773595,
          -34.94688737157371,
          4.970710167176072,
          -5.115379998282454,
          -5.4097664404441606,
          36.593357470998576,
          23.223106343564474,
          28.52205735451843,
          -3.92789741153244,
          46.630747469546826,
          37.205565371169804,
          -7.349099153526408,
          -29.790164827916186,
          23.224386619399766,
          26.690546994654127,
          30.8980009814531,
          6.675287735116637,
          -3.5899275427663255,
          18.30217986729086,
          7.614077016632984,
          9.291494707459758,
          -10.096001235633617,
          21.2478268591677,
          -4.458331655088873,
          23.347802374092144,
          48.82283831264721,
          -5.367329438622806,
          -7.172554127118815,
          -22.078887515472502,
          31.785655019202895,
          5.383630469488937,
          -39.7390884471075,
          -17.895482011630616,
          8.778229905635841,
          46.374904413283566,
          -6.241514097435612,
          43.00899698957462,
          -4.191837803596103,
          27.104562879507167,
          -16.04341552276019,
          17.871531104847836,
          4.442763883984929,
          -1.4965797995840158,
          -6.777966338758475,
          -5.1285763875084855,
          2.4073453094481696,
          37.07610547181907,
          -21.356641150666203,
          -3.261499393346222,
          7.371694477076915,
          29.531540421231607,
          9.079335968436203,
          -26.41188000627168,
          -4.926642077048063,
          -39.821523378794645,
          16.645569295277586,
          33.84968341114159,
          7.527539969212882,
          30.57805038910304,
          21.655267464133388,
          -37.72642418823573,
          13.442234125066989,
          6.21461413415533,
          -0.7538566917446352,
          -9.629886657619542,
          23.871641106921302,
          -31.053780123302168,
          32.678991233643465,
          -6.044536061029061,
          0.0820247871874904,
          -1.535765606715694,
          31.035263748296813,
          28.218644387883106,
          14.848948013707155,
          -9.164779121697537,
          1.497479440002282,
          33.45639243260458,
          -32.80647428383177,
          4.97279007994911,
          33.543440591355,
          25.192064892574017,
          25.285500604519246,
          -8.538805559186278,
          -4.484764925443749,
          11.822981600430971,
          1.2672291779549523,
          35.808870044216455,
          -13.22724434948827,
          27.06513883681794,
          24.062212555799025,
          5.132990785165974,
          31.613148815489595,
          -4.266013264283163,
          17.61052738202773,
          -9.51582099144802,
          -31.15254797795684,
          28.661708706906133,
          33.66233802981991,
          22.698159054468356,
          -17.672108638022795,
          10.237305633311156,
          15.246629262803461,
          25.68278302569523,
          2.1098390430157057,
          17.555734117295277,
          -20.923222441989672,
          6.658699734250042,
          -6.971232475196198,
          -2.053551981356216,
          51.18171841383005,
          -13.74485307798571,
          10.367051456767019,
          44.00906894970187,
          13.14333727220871,
          -0.3184037352369291,
          9.48210850059545,
          10.541040903761026,
          20.365814805778164,
          17.46908784588787,
          16.01237929167565,
          -28.63663457966751,
          -2.626836666917267,
          10.066273203065183,
          -11.694429335770069,
          -4.854659429793504,
          37.688281586862175,
          -23.510699534430067,
          20.9697552241651,
          3.1739974607225836,
          -30.878008157192188,
          -20.333340349443237,
          8.611537402423625,
          34.02811230758124,
          -0.6112724591815342,
          -16.906632989038485,
          10.88487366650688,
          -7.432741688049398,
          -1.9600973068702285,
          0.42417170632449785,
          24.02873967113266,
          23.518815503392155,
          -26.711102702215246,
          7.725937721380231,
          -1.2011698421030688,
          -13.39291603897908,
          -8.40776968861946,
          -4.8093744954590605,
          -10.79504758746652,
          -34.1907475565721,
          -6.830029286078371,
          10.071592938776073,
          41.51104384815389,
          -10.891225967553991,
          -9.550437188825953,
          -19.800544355158593,
          7.738827205665218,
          3.310149350094472,
          11.059921750375782,
          -13.779148375365445,
          5.9317955144962085,
          16.05535704500012,
          35.372519189797536,
          35.273714467371356,
          -4.658701882440159,
          14.894480378211915,
          -30.188747344536534,
          0.37988928423159285,
          -1.400645926241683,
          3.1693820527917382,
          41.82259974512191,
          21.494839368903673,
          -31.67701908551826,
          35.7069260810577,
          15.026298240761268,
          31.929542636439855,
          28.874421841573447,
          8.559177126664384,
          -22.35674859487601,
          30.45252380272268,
          11.86951570512753,
          27.00077977418145,
          -1.2159986116287502,
          43.39253695845778,
          -6.7098172246015055,
          18.700393603761164,
          -24.209427585777743,
          0.1707141019774805,
          -9.065812869712246,
          -36.46002961386362,
          27.343375637992825,
          -31.96985298361024,
          -25.810602225177707,
          26.646312823316325,
          -6.14619801615779,
          13.145916159347077,
          -26.454472631649022
         ],
         "yaxis": "y"
        }
       ],
       "layout": {
        "height": 400,
        "legend": {
         "tracegroupgap": 0
        },
        "margin": {
         "t": 60
        },
        "template": {
         "data": {
          "bar": [
           {
            "error_x": {
             "color": "#2a3f5f"
            },
            "error_y": {
             "color": "#2a3f5f"
            },
            "marker": {
             "line": {
              "color": "#E5ECF6",
              "width": 0.5
             },
             "pattern": {
              "fillmode": "overlay",
              "size": 10,
              "solidity": 0.2
             }
            },
            "type": "bar"
           }
          ],
          "barpolar": [
           {
            "marker": {
             "line": {
              "color": "#E5ECF6",
              "width": 0.5
             },
             "pattern": {
              "fillmode": "overlay",
              "size": 10,
              "solidity": 0.2
             }
            },
            "type": "barpolar"
           }
          ],
          "carpet": [
           {
            "aaxis": {
             "endlinecolor": "#2a3f5f",
             "gridcolor": "white",
             "linecolor": "white",
             "minorgridcolor": "white",
             "startlinecolor": "#2a3f5f"
            },
            "baxis": {
             "endlinecolor": "#2a3f5f",
             "gridcolor": "white",
             "linecolor": "white",
             "minorgridcolor": "white",
             "startlinecolor": "#2a3f5f"
            },
            "type": "carpet"
           }
          ],
          "choropleth": [
           {
            "colorbar": {
             "outlinewidth": 0,
             "ticks": ""
            },
            "type": "choropleth"
           }
          ],
          "contour": [
           {
            "colorbar": {
             "outlinewidth": 0,
             "ticks": ""
            },
            "colorscale": [
             [
              0,
              "#0d0887"
             ],
             [
              0.1111111111111111,
              "#46039f"
             ],
             [
              0.2222222222222222,
              "#7201a8"
             ],
             [
              0.3333333333333333,
              "#9c179e"
             ],
             [
              0.4444444444444444,
              "#bd3786"
             ],
             [
              0.5555555555555556,
              "#d8576b"
             ],
             [
              0.6666666666666666,
              "#ed7953"
             ],
             [
              0.7777777777777778,
              "#fb9f3a"
             ],
             [
              0.8888888888888888,
              "#fdca26"
             ],
             [
              1,
              "#f0f921"
             ]
            ],
            "type": "contour"
           }
          ],
          "contourcarpet": [
           {
            "colorbar": {
             "outlinewidth": 0,
             "ticks": ""
            },
            "type": "contourcarpet"
           }
          ],
          "heatmap": [
           {
            "colorbar": {
             "outlinewidth": 0,
             "ticks": ""
            },
            "colorscale": [
             [
              0,
              "#0d0887"
             ],
             [
              0.1111111111111111,
              "#46039f"
             ],
             [
              0.2222222222222222,
              "#7201a8"
             ],
             [
              0.3333333333333333,
              "#9c179e"
             ],
             [
              0.4444444444444444,
              "#bd3786"
             ],
             [
              0.5555555555555556,
              "#d8576b"
             ],
             [
              0.6666666666666666,
              "#ed7953"
             ],
             [
              0.7777777777777778,
              "#fb9f3a"
             ],
             [
              0.8888888888888888,
              "#fdca26"
             ],
             [
              1,
              "#f0f921"
             ]
            ],
            "type": "heatmap"
           }
          ],
          "heatmapgl": [
           {
            "colorbar": {
             "outlinewidth": 0,
             "ticks": ""
            },
            "colorscale": [
             [
              0,
              "#0d0887"
             ],
             [
              0.1111111111111111,
              "#46039f"
             ],
             [
              0.2222222222222222,
              "#7201a8"
             ],
             [
              0.3333333333333333,
              "#9c179e"
             ],
             [
              0.4444444444444444,
              "#bd3786"
             ],
             [
              0.5555555555555556,
              "#d8576b"
             ],
             [
              0.6666666666666666,
              "#ed7953"
             ],
             [
              0.7777777777777778,
              "#fb9f3a"
             ],
             [
              0.8888888888888888,
              "#fdca26"
             ],
             [
              1,
              "#f0f921"
             ]
            ],
            "type": "heatmapgl"
           }
          ],
          "histogram": [
           {
            "marker": {
             "pattern": {
              "fillmode": "overlay",
              "size": 10,
              "solidity": 0.2
             }
            },
            "type": "histogram"
           }
          ],
          "histogram2d": [
           {
            "colorbar": {
             "outlinewidth": 0,
             "ticks": ""
            },
            "colorscale": [
             [
              0,
              "#0d0887"
             ],
             [
              0.1111111111111111,
              "#46039f"
             ],
             [
              0.2222222222222222,
              "#7201a8"
             ],
             [
              0.3333333333333333,
              "#9c179e"
             ],
             [
              0.4444444444444444,
              "#bd3786"
             ],
             [
              0.5555555555555556,
              "#d8576b"
             ],
             [
              0.6666666666666666,
              "#ed7953"
             ],
             [
              0.7777777777777778,
              "#fb9f3a"
             ],
             [
              0.8888888888888888,
              "#fdca26"
             ],
             [
              1,
              "#f0f921"
             ]
            ],
            "type": "histogram2d"
           }
          ],
          "histogram2dcontour": [
           {
            "colorbar": {
             "outlinewidth": 0,
             "ticks": ""
            },
            "colorscale": [
             [
              0,
              "#0d0887"
             ],
             [
              0.1111111111111111,
              "#46039f"
             ],
             [
              0.2222222222222222,
              "#7201a8"
             ],
             [
              0.3333333333333333,
              "#9c179e"
             ],
             [
              0.4444444444444444,
              "#bd3786"
             ],
             [
              0.5555555555555556,
              "#d8576b"
             ],
             [
              0.6666666666666666,
              "#ed7953"
             ],
             [
              0.7777777777777778,
              "#fb9f3a"
             ],
             [
              0.8888888888888888,
              "#fdca26"
             ],
             [
              1,
              "#f0f921"
             ]
            ],
            "type": "histogram2dcontour"
           }
          ],
          "mesh3d": [
           {
            "colorbar": {
             "outlinewidth": 0,
             "ticks": ""
            },
            "type": "mesh3d"
           }
          ],
          "parcoords": [
           {
            "line": {
             "colorbar": {
              "outlinewidth": 0,
              "ticks": ""
             }
            },
            "type": "parcoords"
           }
          ],
          "pie": [
           {
            "automargin": true,
            "type": "pie"
           }
          ],
          "scatter": [
           {
            "fillpattern": {
             "fillmode": "overlay",
             "size": 10,
             "solidity": 0.2
            },
            "type": "scatter"
           }
          ],
          "scatter3d": [
           {
            "line": {
             "colorbar": {
              "outlinewidth": 0,
              "ticks": ""
             }
            },
            "marker": {
             "colorbar": {
              "outlinewidth": 0,
              "ticks": ""
             }
            },
            "type": "scatter3d"
           }
          ],
          "scattercarpet": [
           {
            "marker": {
             "colorbar": {
              "outlinewidth": 0,
              "ticks": ""
             }
            },
            "type": "scattercarpet"
           }
          ],
          "scattergeo": [
           {
            "marker": {
             "colorbar": {
              "outlinewidth": 0,
              "ticks": ""
             }
            },
            "type": "scattergeo"
           }
          ],
          "scattergl": [
           {
            "marker": {
             "colorbar": {
              "outlinewidth": 0,
              "ticks": ""
             }
            },
            "type": "scattergl"
           }
          ],
          "scattermapbox": [
           {
            "marker": {
             "colorbar": {
              "outlinewidth": 0,
              "ticks": ""
             }
            },
            "type": "scattermapbox"
           }
          ],
          "scatterpolar": [
           {
            "marker": {
             "colorbar": {
              "outlinewidth": 0,
              "ticks": ""
             }
            },
            "type": "scatterpolar"
           }
          ],
          "scatterpolargl": [
           {
            "marker": {
             "colorbar": {
              "outlinewidth": 0,
              "ticks": ""
             }
            },
            "type": "scatterpolargl"
           }
          ],
          "scatterternary": [
           {
            "marker": {
             "colorbar": {
              "outlinewidth": 0,
              "ticks": ""
             }
            },
            "type": "scatterternary"
           }
          ],
          "surface": [
           {
            "colorbar": {
             "outlinewidth": 0,
             "ticks": ""
            },
            "colorscale": [
             [
              0,
              "#0d0887"
             ],
             [
              0.1111111111111111,
              "#46039f"
             ],
             [
              0.2222222222222222,
              "#7201a8"
             ],
             [
              0.3333333333333333,
              "#9c179e"
             ],
             [
              0.4444444444444444,
              "#bd3786"
             ],
             [
              0.5555555555555556,
              "#d8576b"
             ],
             [
              0.6666666666666666,
              "#ed7953"
             ],
             [
              0.7777777777777778,
              "#fb9f3a"
             ],
             [
              0.8888888888888888,
              "#fdca26"
             ],
             [
              1,
              "#f0f921"
             ]
            ],
            "type": "surface"
           }
          ],
          "table": [
           {
            "cells": {
             "fill": {
              "color": "#EBF0F8"
             },
             "line": {
              "color": "white"
             }
            },
            "header": {
             "fill": {
              "color": "#C8D4E3"
             },
             "line": {
              "color": "white"
             }
            },
            "type": "table"
           }
          ]
         },
         "layout": {
          "annotationdefaults": {
           "arrowcolor": "#2a3f5f",
           "arrowhead": 0,
           "arrowwidth": 1
          },
          "autotypenumbers": "strict",
          "coloraxis": {
           "colorbar": {
            "outlinewidth": 0,
            "ticks": ""
           }
          },
          "colorscale": {
           "diverging": [
            [
             0,
             "#8e0152"
            ],
            [
             0.1,
             "#c51b7d"
            ],
            [
             0.2,
             "#de77ae"
            ],
            [
             0.3,
             "#f1b6da"
            ],
            [
             0.4,
             "#fde0ef"
            ],
            [
             0.5,
             "#f7f7f7"
            ],
            [
             0.6,
             "#e6f5d0"
            ],
            [
             0.7,
             "#b8e186"
            ],
            [
             0.8,
             "#7fbc41"
            ],
            [
             0.9,
             "#4d9221"
            ],
            [
             1,
             "#276419"
            ]
           ],
           "sequential": [
            [
             0,
             "#0d0887"
            ],
            [
             0.1111111111111111,
             "#46039f"
            ],
            [
             0.2222222222222222,
             "#7201a8"
            ],
            [
             0.3333333333333333,
             "#9c179e"
            ],
            [
             0.4444444444444444,
             "#bd3786"
            ],
            [
             0.5555555555555556,
             "#d8576b"
            ],
            [
             0.6666666666666666,
             "#ed7953"
            ],
            [
             0.7777777777777778,
             "#fb9f3a"
            ],
            [
             0.8888888888888888,
             "#fdca26"
            ],
            [
             1,
             "#f0f921"
            ]
           ],
           "sequentialminus": [
            [
             0,
             "#0d0887"
            ],
            [
             0.1111111111111111,
             "#46039f"
            ],
            [
             0.2222222222222222,
             "#7201a8"
            ],
            [
             0.3333333333333333,
             "#9c179e"
            ],
            [
             0.4444444444444444,
             "#bd3786"
            ],
            [
             0.5555555555555556,
             "#d8576b"
            ],
            [
             0.6666666666666666,
             "#ed7953"
            ],
            [
             0.7777777777777778,
             "#fb9f3a"
            ],
            [
             0.8888888888888888,
             "#fdca26"
            ],
            [
             1,
             "#f0f921"
            ]
           ]
          },
          "colorway": [
           "#636efa",
           "#EF553B",
           "#00cc96",
           "#ab63fa",
           "#FFA15A",
           "#19d3f3",
           "#FF6692",
           "#B6E880",
           "#FF97FF",
           "#FECB52"
          ],
          "font": {
           "color": "#2a3f5f"
          },
          "geo": {
           "bgcolor": "white",
           "lakecolor": "white",
           "landcolor": "#E5ECF6",
           "showlakes": true,
           "showland": true,
           "subunitcolor": "white"
          },
          "hoverlabel": {
           "align": "left"
          },
          "hovermode": "closest",
          "mapbox": {
           "style": "light"
          },
          "paper_bgcolor": "white",
          "plot_bgcolor": "#E5ECF6",
          "polar": {
           "angularaxis": {
            "gridcolor": "white",
            "linecolor": "white",
            "ticks": ""
           },
           "bgcolor": "#E5ECF6",
           "radialaxis": {
            "gridcolor": "white",
            "linecolor": "white",
            "ticks": ""
           }
          },
          "scene": {
           "xaxis": {
            "backgroundcolor": "#E5ECF6",
            "gridcolor": "white",
            "gridwidth": 2,
            "linecolor": "white",
            "showbackground": true,
            "ticks": "",
            "zerolinecolor": "white"
           },
           "yaxis": {
            "backgroundcolor": "#E5ECF6",
            "gridcolor": "white",
            "gridwidth": 2,
            "linecolor": "white",
            "showbackground": true,
            "ticks": "",
            "zerolinecolor": "white"
           },
           "zaxis": {
            "backgroundcolor": "#E5ECF6",
            "gridcolor": "white",
            "gridwidth": 2,
            "linecolor": "white",
            "showbackground": true,
            "ticks": "",
            "zerolinecolor": "white"
           }
          },
          "shapedefaults": {
           "line": {
            "color": "#2a3f5f"
           }
          },
          "ternary": {
           "aaxis": {
            "gridcolor": "white",
            "linecolor": "white",
            "ticks": ""
           },
           "baxis": {
            "gridcolor": "white",
            "linecolor": "white",
            "ticks": ""
           },
           "bgcolor": "#E5ECF6",
           "caxis": {
            "gridcolor": "white",
            "linecolor": "white",
            "ticks": ""
           }
          },
          "title": {
           "x": 0.05
          },
          "xaxis": {
           "automargin": true,
           "gridcolor": "white",
           "linecolor": "white",
           "ticks": "",
           "title": {
            "standoff": 15
           },
           "zerolinecolor": "white",
           "zerolinewidth": 2
          },
          "yaxis": {
           "automargin": true,
           "gridcolor": "white",
           "linecolor": "white",
           "ticks": "",
           "title": {
            "standoff": 15
           },
           "zerolinecolor": "white",
           "zerolinewidth": 2
          }
         }
        },
        "title": {
         "text": "Comparación predicciones vrs metas"
        },
        "width": 600,
        "xaxis": {
         "anchor": "y",
         "domain": [
          0,
          1
         ],
         "title": {
          "text": "Predicciones"
         }
        },
        "yaxis": {
         "anchor": "x",
         "domain": [
          0,
          1
         ],
         "title": {
          "text": "Metas"
         }
        }
       }
      }
     },
     "metadata": {},
     "output_type": "display_data"
    }
   ],
   "source": [
    "fig = px.scatter(x = np.squeeze(modelo.predict_on_batch(datos['entradas'])), \n",
    "                 y =  np.squeeze(datos['targets']))\n",
    "\n",
    "fig.update_layout(\n",
    "    title = \"Comparación predicciones vrs metas\",\n",
    "    xaxis_title = \"Predicciones\",\n",
    "    yaxis_title = \"Metas\",\n",
    "    width = 600,\n",
    "    height = 400,)\n",
    "\n",
    "fig.show()"
   ]
  }
 ],
 "metadata": {
  "kernelspec": {
   "display_name": "Python 3 (ipykernel)",
   "language": "python",
   "name": "python3"
  },
  "language_info": {
   "codemirror_mode": {
    "name": "ipython",
    "version": 3
   },
   "file_extension": ".py",
   "mimetype": "text/x-python",
   "name": "python",
   "nbconvert_exporter": "python",
   "pygments_lexer": "ipython3",
   "version": "3.11.4"
  }
 },
 "nbformat": 4,
 "nbformat_minor": 4
}
